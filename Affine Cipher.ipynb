{
 "cells": [
  {
   "cell_type": "markdown",
   "metadata": {},
   "source": [
    "## Affine Cipher\n",
    "#### Abhishek Jain - 16CSU015"
   ]
  },
  {
   "cell_type": "markdown",
   "metadata": {},
   "source": [
    "**Encryption**"
   ]
  },
  {
   "cell_type": "code",
   "execution_count": 7,
   "metadata": {},
   "outputs": [
    {
     "name": "stdout",
     "output_type": "stream",
     "text": [
      "Enter Plain Text: hello\n",
      "Enter Add KEY: 4\n",
      "Enter Mul KEY: 6\n",
      "Enter a valid Multiplicative key !!\n"
     ]
    },
    {
     "ename": "SystemExit",
     "evalue": "",
     "output_type": "error",
     "traceback": [
      "An exception has occurred, use %tb to see the full traceback.\n",
      "\u001b[1;31mSystemExit\u001b[0m\n"
     ]
    },
    {
     "name": "stderr",
     "output_type": "stream",
     "text": [
      "c:\\users\\dell\\py4e\\lib\\site-packages\\IPython\\core\\interactiveshell.py:2969: UserWarning: To exit: use 'exit', 'quit', or Ctrl-D.\n",
      "  warn(\"To exit: use 'exit', 'quit', or Ctrl-D.\", stacklevel=1)\n"
     ]
    }
   ],
   "source": [
    "import sys\n",
    "import math\n",
    "P = input(\"Enter Plain Text: \").upper()\n",
    "K1 = int(input(\"Enter Add KEY: \"))\n",
    "K2 = int(input(\"Enter Mul KEY: \"))\n",
    "if math.gcd(26,K2) == 1:\n",
    "    pass\n",
    "else:\n",
    "    print(\"Enter a valid Multiplicative key !!\")\n",
    "    sys.exit()"
   ]
  },
  {
   "cell_type": "code",
   "execution_count": null,
   "metadata": {},
   "outputs": [],
   "source": [
    "IN = \"\".join([chr((((ord(x)-65)*K2)%26)+65) if (ord(x) is not ord(\" \")) else x for x in P]).upper()\n",
    "IN"
   ]
  },
  {
   "cell_type": "code",
   "execution_count": null,
   "metadata": {},
   "outputs": [],
   "source": [
    "C = \"\".join([chr((((ord(x)+K1)-65)%26)+65) if (ord(x) is not ord(\" \")) else x for x in IN]).upper()\n",
    "C"
   ]
  },
  {
   "cell_type": "markdown",
   "metadata": {},
   "source": [
    "**Decryption**"
   ]
  },
  {
   "cell_type": "code",
   "execution_count": null,
   "metadata": {},
   "outputs": [],
   "source": [
    "C = input(\"Enter Cipher Text: \")\n",
    "K1 = int(input(\"Enter Add KEY: \"))\n",
    "K2 = int(input(\"Enter Mul KEY: \"))"
   ]
  },
  {
   "cell_type": "code",
   "execution_count": null,
   "metadata": {},
   "outputs": [],
   "source": [
    "IN = \"\".join([chr((((ord(x)-K1)-65)%26)+65) if (ord(x) is not ord(\" \")) else x for x in C]).upper()\n",
    "IN"
   ]
  },
  {
   "cell_type": "code",
   "execution_count": null,
   "metadata": {},
   "outputs": [],
   "source": [
    "C = \"\".join([chr((((ord(x)-65)*K2)%26)+65) if (ord(x) is not ord(\" \")) else x for x in IN]).upper()\n",
    "C"
   ]
  },
  {
   "cell_type": "code",
   "execution_count": null,
   "metadata": {},
   "outputs": [],
   "source": []
  },
  {
   "cell_type": "code",
   "execution_count": null,
   "metadata": {},
   "outputs": [],
   "source": []
  }
 ],
 "metadata": {
  "kernelspec": {
   "display_name": "Python 3",
   "language": "python",
   "name": "python3"
  },
  "language_info": {
   "codemirror_mode": {
    "name": "ipython",
    "version": 3
   },
   "file_extension": ".py",
   "mimetype": "text/x-python",
   "name": "python",
   "nbconvert_exporter": "python",
   "pygments_lexer": "ipython3",
   "version": "3.7.0"
  }
 },
 "nbformat": 4,
 "nbformat_minor": 2
}
