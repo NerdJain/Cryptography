{
 "cells": [
  {
   "cell_type": "markdown",
   "metadata": {},
   "source": [
    "## Multiplicative Inverse using Extended Euclidean Algorithm\n"
   ]
  },
  {
   "cell_type": "code",
   "execution_count": 1,
   "metadata": {},
   "outputs": [
    {
     "name": "stdout",
     "output_type": "stream",
     "text": [
      "Enter n in Zn: 5\n"
     ]
    }
   ],
   "source": [
    "n = int(input(\"Enter n in Zn: \"))"
   ]
  },
  {
   "cell_type": "code",
   "execution_count": 2,
   "metadata": {},
   "outputs": [
    {
     "name": "stdout",
     "output_type": "stream",
     "text": [
      "Zn = [0, 1, 2, 3, 4]\n"
     ]
    }
   ],
   "source": [
    "zn = [i for i in range(n)]\n",
    "zn_inv = []\n",
    "print(\"Zn =\", zn)"
   ]
  },
  {
   "cell_type": "code",
   "execution_count": 3,
   "metadata": {},
   "outputs": [],
   "source": [
    "b = zn"
   ]
  },
  {
   "cell_type": "code",
   "execution_count": 4,
   "metadata": {},
   "outputs": [],
   "source": [
    "for i in b:\n",
    "    r1, r2 = n, i\n",
    "    t1, t2 = 0, 1\n",
    "    \n",
    "    q, r, t = 0, 0, 0\n",
    "    while (r2 > 0):\n",
    "        q = r1 // r2\n",
    "        r = r1 - (q * r2)\n",
    "        t = t1 - (q * t2)\n",
    "        r1, r2, t1, t2 = r2, r, t2, t\n",
    "    if r1 is 1:\n",
    "        mi = t1 if (t1 > 0) else (t1 + n)\n",
    "        zn_inv.append(mi)"
   ]
  },
  {
   "cell_type": "code",
   "execution_count": 5,
   "metadata": {},
   "outputs": [
    {
     "data": {
      "text/plain": [
       "[1, 3, 2, 4]"
      ]
     },
     "execution_count": 5,
     "metadata": {},
     "output_type": "execute_result"
    }
   ],
   "source": [
    "zn_inv"
   ]
  },
  {
   "cell_type": "code",
   "execution_count": 6,
   "metadata": {},
   "outputs": [
    {
     "data": {
      "text/plain": [
       "4"
      ]
     },
     "execution_count": 6,
     "metadata": {},
     "output_type": "execute_result"
    }
   ],
   "source": [
    "len(zn_inv)"
   ]
  }
 ],
 "metadata": {
  "kernelspec": {
   "display_name": "Python 3",
   "language": "python",
   "name": "python3"
  },
  "language_info": {
   "codemirror_mode": {
    "name": "ipython",
    "version": 3
   },
   "file_extension": ".py",
   "mimetype": "text/x-python",
   "name": "python",
   "nbconvert_exporter": "python",
   "pygments_lexer": "ipython3",
   "version": "3.7.0"
  }
 },
 "nbformat": 4,
 "nbformat_minor": 2
}
