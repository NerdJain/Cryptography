{
 "cells": [
  {
   "cell_type": "markdown",
   "metadata": {},
   "source": [
    "# Playfair Cipher - 16csu015"
   ]
  },
  {
   "cell_type": "code",
   "execution_count": 76,
   "metadata": {},
   "outputs": [],
   "source": [
    "import numpy as np"
   ]
  },
  {
   "cell_type": "code",
   "execution_count": 77,
   "metadata": {},
   "outputs": [
    {
     "name": "stdout",
     "output_type": "stream",
     "text": [
      "Enter Plain Text: hello\n"
     ]
    }
   ],
   "source": [
    "P = input(\"Enter Plain Text: \").upper()"
   ]
  },
  {
   "cell_type": "markdown",
   "metadata": {},
   "source": [
    "### Encryption"
   ]
  },
  {
   "cell_type": "markdown",
   "metadata": {},
   "source": [
    "**Create Blocks**"
   ]
  },
  {
   "cell_type": "code",
   "execution_count": 78,
   "metadata": {},
   "outputs": [
    {
     "name": "stdout",
     "output_type": "stream",
     "text": [
      "[['H', 'E'], ['L', 'X'], ['L', 'O']]\n"
     ]
    }
   ],
   "source": [
    "m1=[]\n",
    "for letter in P:\n",
    "    m1.append(letter)\n",
    "\n",
    "## Remove Spaces\n",
    "for x in range(len(m1)):\n",
    "    if \" \" in m1:\n",
    "        m1.remove(\" \")\n",
    "\n",
    "## Add X or Z between redundant letters\n",
    "i=0\n",
    "for e in range(len(m1)//2):\n",
    "    if m1[i] == m1[i+1]:\n",
    "        m1.insert(i+1,'X')\n",
    "    i=i+2\n",
    "\n",
    "## Make the length of array even\n",
    "if len(m1)%2 == 1:\n",
    "    m1.append(\"X\")\n",
    "\n",
    "## Make blocks\n",
    "i=0\n",
    "new=[]\n",
    "for x in range(1,len(m1)//2+1):\n",
    "    new.append(m1[i:i+2])\n",
    "    i=i+2\n",
    "\n",
    "print(new)"
   ]
  },
  {
   "cell_type": "markdown",
   "metadata": {},
   "source": [
    "**Key Generator**"
   ]
  },
  {
   "cell_type": "code",
   "execution_count": 79,
   "metadata": {},
   "outputs": [
    {
     "data": {
      "text/plain": [
       "array([['A', 'C', 'Q', 'L', 'V'],\n",
       "       ['M', 'H', 'U', 'T', 'D'],\n",
       "       ['N', 'B', 'Y', 'E', 'G'],\n",
       "       ['S', 'I', 'P', 'F', 'W'],\n",
       "       ['K', 'O', 'Z', 'X', 'R']], dtype='<U1')"
      ]
     },
     "execution_count": 79,
     "metadata": {},
     "output_type": "execute_result"
    }
   ],
   "source": [
    "##Random Key Generator\n",
    "from random import shuffle\n",
    "alpha = 'ABCDEFGHIKLMNOPQRSTUVWXYZ'\n",
    "mat = list(alpha)\n",
    "shuffle(mat)\n",
    "\n",
    "key = []\n",
    "for i in range(5):\n",
    "    key.append('')\n",
    "    key[i] = mat[5*i : 5*(i+1)]\n",
    "\n",
    "key = np.array(key)\n",
    "key\n",
    "\n",
    "#key = [['L','G','D','B','A'],['Q','M','H','E','C'],['U','R','N','I','F'],['X','V','S','O','K'],['Z','Y','W','P','T']]"
   ]
  },
  {
   "cell_type": "markdown",
   "metadata": {},
   "source": [
    "**Find position in key matrix**"
   ]
  },
  {
   "cell_type": "code",
   "execution_count": 80,
   "metadata": {},
   "outputs": [],
   "source": [
    "## find position in key matrix\n",
    "def find_position(key,letter):\n",
    "    x=y=0\n",
    "    for i in range(5):\n",
    "        for j in range(5):\n",
    "            if key[i][j]==letter:\n",
    "                x=i\n",
    "                y=j\n",
    "\n",
    "    return x,y"
   ]
  },
  {
   "cell_type": "markdown",
   "metadata": {},
   "source": [
    "**Encrypt**"
   ]
  },
  {
   "cell_type": "code",
   "execution_count": 81,
   "metadata": {},
   "outputs": [
    {
     "name": "stdout",
     "output_type": "stream",
     "text": [
      "Cipher Text: TBTLCX\n"
     ]
    }
   ],
   "source": [
    "cipher=[]\n",
    "for e in new:\n",
    "    p1,q1=find_position(key,e[0])\n",
    "    p2,q2=find_position(key,e[1])\n",
    "    if p1 == p2:\n",
    "        cipher.append(key[p1][(q1+1)%5])\n",
    "        cipher.append(key[p1][(q2+1)%5])\n",
    "    elif q1 == q2:\n",
    "        cipher.append(key[(p1+1)%5][q1])\n",
    "        cipher.append(key[(p2+1)%5][q2])\n",
    "    else:\n",
    "        cipher.append(key[p1][q2])\n",
    "        cipher.append(key[p2][q1])\n",
    "\n",
    "C = ''.join(cipher)\n",
    "print(f'Cipher Text: {C}')"
   ]
  },
  {
   "cell_type": "code",
   "execution_count": null,
   "metadata": {},
   "outputs": [],
   "source": []
  },
  {
   "cell_type": "markdown",
   "metadata": {},
   "source": [
    "### Decryption"
   ]
  },
  {
   "cell_type": "markdown",
   "metadata": {},
   "source": [
    "**Create Blocks**"
   ]
  },
  {
   "cell_type": "code",
   "execution_count": 82,
   "metadata": {},
   "outputs": [
    {
     "data": {
      "text/plain": [
       "[['T', 'B'], ['T', 'L'], ['C', 'X']]"
      ]
     },
     "execution_count": 82,
     "metadata": {},
     "output_type": "execute_result"
    }
   ],
   "source": [
    "new1 = []\n",
    "i = 0\n",
    "for x in range(len(cipher)//2):\n",
    "    new1.append(cipher[i:i+2])\n",
    "    i=i+2\n",
    "new1"
   ]
  },
  {
   "cell_type": "markdown",
   "metadata": {},
   "source": [
    "**Decrypt**"
   ]
  },
  {
   "cell_type": "code",
   "execution_count": 83,
   "metadata": {},
   "outputs": [
    {
     "name": "stdout",
     "output_type": "stream",
     "text": [
      "Plain Text: HELLO\n"
     ]
    }
   ],
   "source": [
    "plain=[]\n",
    "for e in new1:\n",
    "    p1,q1=find_position(key,e[0])\n",
    "    p2,q2=find_position(key,e[1])\n",
    "    if p1 == p2:\n",
    "        plain.append(key[p1][(q1-1)%5])\n",
    "        plain.append(key[p1][(q2-1)%5])\n",
    "    elif q1 == q2:\n",
    "        plain.append(key[(p1-1)%5][q1])\n",
    "        plain.append(key[(p2-1)%5][q2])\n",
    "    else:\n",
    "        plain.append(key[p1][q2])\n",
    "        plain.append(key[p2][q1])\n",
    "\n",
    "\n",
    "for i in range(len(plain)):\n",
    "    if 'X' in plain:\n",
    "        plain.remove('X')\n",
    "        \n",
    "P = ''.join(plain)\n",
    "print(f'Plain Text: {P}')"
   ]
  },
  {
   "cell_type": "code",
   "execution_count": null,
   "metadata": {},
   "outputs": [],
   "source": []
  }
 ],
 "metadata": {
  "kernelspec": {
   "display_name": "Python 3",
   "language": "python",
   "name": "python3"
  },
  "language_info": {
   "codemirror_mode": {
    "name": "ipython",
    "version": 3
   },
   "file_extension": ".py",
   "mimetype": "text/x-python",
   "name": "python",
   "nbconvert_exporter": "python",
   "pygments_lexer": "ipython3",
   "version": "3.7.0"
  }
 },
 "nbformat": 4,
 "nbformat_minor": 2
}
