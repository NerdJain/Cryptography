{
 "cells": [
  {
   "cell_type": "code",
   "execution_count": 44,
   "metadata": {},
   "outputs": [
    {
     "name": "stdout",
     "output_type": "stream",
     "text": [
      "Enter 1st Polynomial (8-bit): 00100110\n",
      "Enter 2nd Polynomial (8-bit): 10011110\n"
     ]
    }
   ],
   "source": [
    "p1 = input('Enter 1st Polynomial (8-bit): ') #00100110\n",
    "p2 = input('Enter 2nd Polynomial (8-bit): ') #10011110"
   ]
  },
  {
   "cell_type": "code",
   "execution_count": 45,
   "metadata": {},
   "outputs": [
    {
     "name": "stdout",
     "output_type": "stream",
     "text": [
      "0b100111100\n",
      "0b1001100\n",
      "0b10011000\n",
      "0b100110000\n",
      "0b1010100\n",
      "0b10101000\n",
      "0b101010000\n",
      "0b10010100\n"
     ]
    }
   ],
   "source": [
    "s1 = p2\n",
    "result = []\n",
    "for i in range(8):\n",
    "    s1 = bin(int(s1,2) << 1)\n",
    "    print(s1)\n",
    "    if len(s1) > 10:\n",
    "        rs = bin(int(s1,2) ^ 0b100011010)\n",
    "        s1 = rs[0:2] + (len(s1)-9)*'0' + rs[2:]\n",
    "    result.append(s1)"
   ]
  },
  {
   "cell_type": "code",
   "execution_count": 46,
   "metadata": {},
   "outputs": [
    {
     "data": {
      "text/plain": [
       "['0b00100110',\n",
       " '0b1001100',\n",
       " '0b10011000',\n",
       " '0b00101010',\n",
       " '0b1010100',\n",
       " '0b10101000',\n",
       " '0b001001010',\n",
       " '0b10010100']"
      ]
     },
     "execution_count": 46,
     "metadata": {},
     "output_type": "execute_result"
    }
   ],
   "source": [
    "result"
   ]
  },
  {
   "cell_type": "code",
   "execution_count": 47,
   "metadata": {},
   "outputs": [
    {
     "data": {
      "text/plain": [
       "'0b110001100'"
      ]
     },
     "execution_count": 47,
     "metadata": {},
     "output_type": "execute_result"
    }
   ],
   "source": [
    "final = bin(int(result[1],2) + int(result[2],2) + int(result[5],2))\n",
    "final"
   ]
  },
  {
   "cell_type": "code",
   "execution_count": null,
   "metadata": {},
   "outputs": [],
   "source": []
  },
  {
   "cell_type": "code",
   "execution_count": null,
   "metadata": {},
   "outputs": [],
   "source": []
  }
 ],
 "metadata": {
  "kernelspec": {
   "display_name": "Python 3",
   "language": "python",
   "name": "python3"
  },
  "language_info": {
   "codemirror_mode": {
    "name": "ipython",
    "version": 3
   },
   "file_extension": ".py",
   "mimetype": "text/x-python",
   "name": "python",
   "nbconvert_exporter": "python",
   "pygments_lexer": "ipython3",
   "version": "3.7.0"
  }
 },
 "nbformat": 4,
 "nbformat_minor": 2
}
