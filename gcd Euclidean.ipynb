{
 "cells": [
  {
   "cell_type": "markdown",
   "metadata": {},
   "source": [
    "## GCD using Euclidean Algorithm"
   ]
  },
  {
   "cell_type": "markdown",
   "metadata": {},
   "source": [
    "**Abhishek Jain - 16CSU015**"
   ]
  },
  {
   "cell_type": "code",
   "execution_count": 1,
   "metadata": {},
   "outputs": [
    {
     "name": "stdout",
     "output_type": "stream",
     "text": [
      "Enter 1st number: 45\n",
      "Enter 2nd number: 2\n",
      "GCD: 1\n",
      "m: 1 \n",
      " n: -22\n",
      "Condition: True\n"
     ]
    }
   ],
   "source": [
    "def main(a,b):\n",
    "\tt1,t2 = a,b\n",
    "\tm1 = n2 = 1\n",
    "\tm2 = n1 = 0\n",
    "\twhile True:\n",
    "\t\tq = a//b\n",
    "\t\tr = a - q*b\n",
    "\t\tm = m1 - q*m2\n",
    "\t\tn = n1 - q*n2\n",
    "\t\ta = b\n",
    "\t\tb = r\n",
    "\t\tm1 = m2\n",
    "\t\tm2 = m\n",
    "\t\tn1 = n2\n",
    "\t\tn2 = n\n",
    "\t\tif (a == 0) or (b == 0):\n",
    "\t\t\tm = m1\n",
    "\t\t\tn = n1\n",
    "\t\t\tbreak\n",
    "\n",
    "\tif a == 0:\n",
    "\t\tgcd = b\n",
    "\t\tprint(f\"GCD: {b}\")\n",
    "\telse:\n",
    "\t\tgcd = a\n",
    "\t\tprint(f\"GCD: {a}\")\n",
    "\n",
    "\tprint(f\"m: {m} \\n n: {n}\")\n",
    "\tcn = (gcd == (m*t1 + n*t2))\n",
    "\tprint(f\"Condition: {cn}\")\n",
    "\treturn gcd\n",
    "\n",
    "if __name__ == '__main__':\n",
    "\ta = int(input(\"Enter 1st number: \"))\n",
    "\tb = int(input(\"Enter 2nd number: \"))\n",
    "\tmain(a,b)"
   ]
  },
  {
   "cell_type": "code",
   "execution_count": null,
   "metadata": {},
   "outputs": [],
   "source": []
  }
 ],
 "metadata": {
  "kernelspec": {
   "display_name": "Python 3",
   "language": "python",
   "name": "python3"
  },
  "language_info": {
   "codemirror_mode": {
    "name": "ipython",
    "version": 3
   },
   "file_extension": ".py",
   "mimetype": "text/x-python",
   "name": "python",
   "nbconvert_exporter": "python",
   "pygments_lexer": "ipython3",
   "version": "3.7.0"
  }
 },
 "nbformat": 4,
 "nbformat_minor": 2
}
